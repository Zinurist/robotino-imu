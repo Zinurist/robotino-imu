{
 "cells": [
  {
   "cell_type": "code",
   "execution_count": null,
   "metadata": {
    "collapsed": true
   },
   "outputs": [],
   "source": [
    "#Used to create the example tensorflow graph\n",
    "\n",
    "import tensorflow as tf\n",
    "x = tf.placeholder(tf.float32, [None, 100], name='x_input')\n",
    "y = tf.placeholder(tf.float32, [None, 10], name='y_expected')\n",
    "\n",
    "\n",
    "W1 = tf.Variable(tf.zeros([100, 50]), name='weights_1')\n",
    "b1 = tf.Variable(tf.zeros([50]), name='bias_1')\n",
    "y1 = tf.sigmoid(tf.add(tf.matmul(x, W1, name='matmul'), b1, name='add'), name='sigmoid')\n",
    "\n",
    "with tf.name_scope('layer_2') as scope:\n",
    "    W2 = tf.Variable(tf.zeros([50, 25]), name='weights_2')\n",
    "    b2 = tf.Variable(tf.zeros([25]), name='bias_2')\n",
    "    y2 = tf.sigmoid(tf.add(tf.matmul(y1, W2, name='matmul_1'), b2, name='add_2'))\n",
    "with tf.name_scope('layer_3') as scope:\n",
    "    W3 = tf.Variable(tf.zeros([25, 10]), name='weights_3')\n",
    "    b3 = tf.Variable(tf.zeros([10]), name='bias_3')\n",
    "    y3 = tf.add(tf.matmul(y2, W3, name='matmul_3'), b3, name='add_3')\n",
    "    prob = tf.nn.softmax(y3, name='softmax')\n",
    "    \n",
    "prediction = tf.argmax(prob, 1, name='argmax')\n",
    "\n",
    "#important: logits=op before calling softmax!!\n",
    "with tf.name_scope('cross_entropy_loss') as scope:\n",
    "    loss = tf.reduce_mean(\n",
    "        tf.nn.softmax_cross_entropy_with_logits(labels=y, logits=y3, name='cross_entropy'), name='mean_loss')\n",
    "\n",
    "optimizer = tf.train.AdamOptimizer(0.01).minimize(loss)\n"
   ]
  },
  {
   "cell_type": "code",
   "execution_count": null,
   "metadata": {},
   "outputs": [],
   "source": [
    "sess = tf.Session()\n",
    "init = tf.global_variables_initializer()\n",
    "sess.run(init)    \n",
    "merged = tf.summary.merge_all()\n",
    "train_writer = tf.summary.FileWriter('tmp/example/simple', sess.graph)\n",
    "\n",
    "saver = tf.train.Saver()\n",
    "saver.save(sess, 'tmp/example/simple')"
   ]
  }
 ],
 "metadata": {
  "kernelspec": {
   "display_name": "Python 3",
   "language": "python",
   "name": "python3"
  },
  "language_info": {
   "codemirror_mode": {
    "name": "ipython",
    "version": 3
   },
   "file_extension": ".py",
   "mimetype": "text/x-python",
   "name": "python",
   "nbconvert_exporter": "python",
   "pygments_lexer": "ipython3",
   "version": "3.5.3"
  }
 },
 "nbformat": 4,
 "nbformat_minor": 2
}
