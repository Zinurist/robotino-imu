{
 "cells": [
  {
   "cell_type": "code",
   "execution_count": 1,
   "metadata": {
    "collapsed": true
   },
   "outputs": [],
   "source": [
    "#number of dimensions used and steps when unrolling\n",
    "input_dim = 6\n",
    "input_steps = 2\n",
    "\n",
    "hidden_layer = [50,10]\n",
    "\n",
    "labels = ['curve_s','curve_m','curve_l']\n",
    "classes = len(labels)\n",
    "\n",
    "#percentage used for test data\n",
    "test_rate = 0.1"
   ]
  },
  {
   "cell_type": "code",
   "execution_count": 10,
   "metadata": {},
   "outputs": [],
   "source": [
    "import load_samples as ls\n",
    "import math\n",
    "\n",
    "data_train_x = []\n",
    "data_train_y = []\n",
    "data_test_x = []\n",
    "data_test_y = []\n",
    "i = 0\n",
    "\n",
    "for label in labels:\n",
    "    samples = ls.load_sample(labels = label)\n",
    "    samples = ls.convert_to_input(samples, steps=input_steps)\n",
    "    samples = ls.flatten(samples)\n",
    "    \n",
    "    low = int(test_rate*len(samples))\n",
    "    data_train = samples[low:]\n",
    "    data_test = samples[:low]\n",
    "    \n",
    "    data_train_x.extend(data_train)\n",
    "    data_train_y.extend([i]*len(data_train))\n",
    "    data_test_x.extend(data_test)\n",
    "    data_test_y.extend([i]*len(data_test))\n",
    "    \n",
    "    i += 1\n",
    "    "
   ]
  },
  {
   "cell_type": "code",
   "execution_count": 3,
   "metadata": {},
   "outputs": [
    {
     "data": {
      "image/png": "[encoded data removed]",
      "text/plain": [
       "<matplotlib.figure.Figure at 0x7faacc4d9550>"
      ]
     },
     "metadata": {},
     "output_type": "display_data"
    }
   ],
   "source": [
    "import matplotlib\n",
    "import matplotlib.pyplot as plt\n",
    "\n",
    "plt.plot(data_train_x[0])\n",
    "plt.show()"
   ]
  },
  {
   "cell_type": "code",
   "execution_count": 4,
   "metadata": {},
   "outputs": [],
   "source": [
    "import tensorflow as tf\n",
    "import numpy as np\n",
    "tf.logging.set_verbosity(tf.logging.ERROR)\n",
    "\n",
    "\n",
    "#x,y instead of input_fn\n",
    "xtest = np.array(data_test_x)\n",
    "ytest = np.array(data_test_y)\n",
    "xtrain = np.array(data_train_x)\n",
    "ytrain = np.array(data_train_y)\n",
    "\n",
    "validation_monitor = tf.contrib.learn.monitors.ValidationMonitor(\n",
    "    xtest,\n",
    "    ytest,\n",
    "    every_n_steps=1)\n",
    "\n",
    "feature_columns = [tf.contrib.layers.real_valued_column(\n",
    "    \"\", \n",
    "    dimension=input_dim*input_steps)]\n",
    "classifier = tf.contrib.learn.DNNClassifier(\n",
    "    feature_columns=feature_columns,\n",
    "    hidden_units=hidden_layer,\n",
    "    n_classes=classes,\n",
    "    #model_dir='/tmp/model',\n",
    "    config=tf.contrib.learn.RunConfig(save_checkpoints_steps=1, save_checkpoints_secs=None)\n",
    "    )\n",
    "\n",
    "    "
   ]
  },
  {
   "cell_type": "code",
   "execution_count": 5,
   "metadata": {},
   "outputs": [
    {
     "name": "stderr",
     "output_type": "stream",
     "text": [
      "/usr/local/lib/python3.5/dist-packages/tensorflow/python/util/deprecation.py:248: FutureWarning: comparison to `None` will result in an elementwise object comparison in the future.\n",
      "  equality = a == b\n"
     ]
    },
    {
     "data": {
      "text/plain": [
       "DNNClassifier(params={'optimizer': None, 'hidden_units': [50, 10], 'feature_columns': (_RealValuedColumn(column_name='', dimension=12, default_value=None, dtype=tf.float32, normalizer=None),), 'embedding_lr_multipliers': None, 'input_layer_min_slice_size': None, 'activation_fn': <function relu at 0x7faa93112950>, 'head': <tensorflow.contrib.learn.python.learn.estimators.head._MultiClassHead object at 0x7faa92c81e48>, 'dropout': None, 'gradient_clip_norm': None})"
      ]
     },
     "execution_count": 5,
     "metadata": {},
     "output_type": "execute_result"
    }
   ],
   "source": [
    "classifier.fit(x=xtrain, y=ytrain, steps = 5, monitors=[validation_monitor])"
   ]
  },
  {
   "cell_type": "code",
   "execution_count": 6,
   "metadata": {
    "scrolled": true
   },
   "outputs": [
    {
     "name": "stderr",
     "output_type": "stream",
     "text": [
      "/usr/local/lib/python3.5/dist-packages/tensorflow/python/util/deprecation.py:248: FutureWarning: comparison to `None` will result in an elementwise object comparison in the future.\n",
      "  equality = a == b\n"
     ]
    },
    {
     "name": "stdout",
     "output_type": "stream",
     "text": [
      "1.0\n"
     ]
    }
   ],
   "source": [
    "accuracy = classifier.evaluate(x=xtest, y=ytest, steps=1)\n",
    "print(accuracy[\"accuracy\"])"
   ]
  },
  {
   "cell_type": "code",
   "execution_count": 7,
   "metadata": {},
   "outputs": [
    {
     "name": "stderr",
     "output_type": "stream",
     "text": [
      "/usr/local/lib/python3.5/dist-packages/tensorflow/python/util/deprecation.py:248: FutureWarning: comparison to `None` will result in an elementwise object comparison in the future.\n",
      "  equality = a == b\n"
     ]
    },
    {
     "name": "stdout",
     "output_type": "stream",
     "text": [
      "[1]\n"
     ]
    }
   ],
   "source": [
    "res = classifier.predict(x=np.array([xtrain[0]]), as_iterable=False)\n",
    "print(res)"
   ]
  }
 ],
 "metadata": {
  "kernelspec": {
   "display_name": "Python 3",
   "language": "python",
   "name": "python3"
  },
  "language_info": {
   "codemirror_mode": {
    "name": "ipython",
    "version": 3
   },
   "file_extension": ".py",
   "mimetype": "text/x-python",
   "name": "python",
   "nbconvert_exporter": "python",
   "pygments_lexer": "ipython3",
   "version": "3.5.2"
  }
 },
 "nbformat": 4,
 "nbformat_minor": 2
}
