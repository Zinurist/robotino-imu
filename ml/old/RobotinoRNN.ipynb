{
 "cells": [
  {
   "cell_type": "code",
   "execution_count": 1,
   "metadata": {
    "collapsed": true
   },
   "outputs": [],
   "source": [
    "import numpy as np\n",
    "import tensorflow as tf\n",
    "import load_samples as ls\n",
    "import math\n",
    "\n",
    "\n",
    "#number of dimensions used and steps when unrolling\n",
    "input_dim = 1\n",
    "input_steps = 5\n",
    "\n",
    "hidden_layer = 5\n",
    "\n",
    "labels = ['curve_m','straight','wall','object']\n",
    "classes = len(labels)\n",
    "\n",
    "#percentage used for test data\n",
    "test_rate = 0.1"
   ]
  },
  {
   "cell_type": "code",
   "execution_count": 11,
   "metadata": {},
   "outputs": [
    {
     "name": "stdout",
     "output_type": "stream",
     "text": [
      "todo\n",
      "todo\n",
      "todo\n",
      "todo\n",
      "todo\n",
      "todo\n",
      "todo\n",
      "todo\n",
      "todo\n",
      "todo\n"
     ]
    }
   ],
   "source": [
    "data_train_x = []\n",
    "data_train_y = []\n",
    "data_test_x = []\n",
    "data_test_y = []\n",
    "i = 0\n",
    "\n",
    "for label in labels:\n",
    "    samples = ls.load_sample(labels = label)\n",
    "    samples = ls.convert_to_input(samples)\n",
    "    \n",
    "    low = int(test_rate*len(samples))\n",
    "    data_train = samples[low:]\n",
    "    data_test = samples[:low]\n",
    "    \n",
    "    data_train_x.extend(data_train)\n",
    "    data_train_y.extend([i]*len(data_train))\n",
    "    data_test_x.extend(data_test)\n",
    "    data_test_y.extend([i]*len(data_test))\n",
    "    \n",
    "    i += 1\n",
    "    "
   ]
  },
  {
   "cell_type": "code",
   "execution_count": 3,
   "metadata": {},
   "outputs": [],
   "source": [
    "data_train_x = [[[0],[1],[1],[1],[1]], [[0],[0],[1],[1],[1]], \n",
    "                [[0],[0],[0],[1],[1]], [[0],[0],[0],[0],[1]], \n",
    "                [[0],[0],[0],[0],[0]], [[1],[1],[1],[1],[1]], \n",
    "                [[1],[0],[1],[0],[1]], [[1],[1],[0],[0],[0]], \n",
    "                [[1],[0],[0],[0],[0]], [[1],[1],[0],[0],[1]], \n",
    "                [[1],[1],[1],[0],[1]], [[1],[1],[1],[1],[0]], \n",
    "                [[1],[1],[1],[0],[0]], [[1],[1],[0],[1],[0]], \n",
    "                [[1],[0],[0],[1],[1]], [[1],[0],[0],[0],[1]]]\n",
    "data_test_x = data_train_x\n",
    "data_train_y = [1,1,1,1,1,1,0,0,0,0,0,0,0,0,0,0]\n",
    "data_test_y = data_train_y"
   ]
  },
  {
   "cell_type": "code",
   "execution_count": 4,
   "metadata": {},
   "outputs": [],
   "source": [
    "def convert_to_onehot(labels):\n",
    "    new_labels = []\n",
    "    for y in labels:\n",
    "        label = [0]*classes\n",
    "        label[y] = 1\n",
    "        new_labels.append(label)\n",
    "    return new_labels\n",
    "\n",
    "xtrain = np.array(data_train_x)\n",
    "xtest = np.array(data_test_x)\n",
    "\n",
    "ytrain = convert_to_onehot(data_train_y)\n",
    "ytest = convert_to_onehot(data_test_y)\n",
    "ytrain = np.array(ytrain)\n",
    "ytest = np.array(ytest)"
   ]
  },
  {
   "cell_type": "code",
   "execution_count": 5,
   "metadata": {},
   "outputs": [],
   "source": [
    "tf.logging.set_verbosity(tf.logging.ERROR)\n",
    "tf.reset_default_graph()\n",
    "\n",
    "x = tf.placeholder(tf.float32, [None, input_steps, input_dim])\n",
    "y = tf.placeholder(tf.float32, [None, classes])\n",
    "\n",
    "W = tf.Variable(tf.random_normal([hidden_layer, classes]))\n",
    "b = tf.Variable(tf.zeros([classes]))\n",
    "\n",
    "#x = [tf.placeholder(tf.float32, [None, input_dim]) for _ in range(input_steps)]\n",
    "#y = tf.placeholder(tf.float32, [None, classes])\n",
    "x2 = tf.unstack(x, input_steps, 1)\n",
    "\n",
    "rnn_cell = tf.contrib.rnn.BasicRNNCell(hidden_layer)\n",
    "outputs, state = tf.contrib.rnn.static_rnn(rnn_cell, x2, dtype=tf.float32)\n",
    "rnn = tf.matmul(outputs[-1],W) + b\n",
    "rnn_pred = tf.argmax(rnn,1)\n",
    "\n",
    "cross_entropy = tf.reduce_mean(\n",
    "    tf.nn.softmax_cross_entropy_with_logits(labels=y, logits=rnn))\n",
    "\n",
    "optimizer = tf.train.GradientDescentOptimizer(0.5).minimize(cross_entropy)\n",
    "\n",
    "correct_prediction = tf.equal(tf.argmax(y,1), rnn_pred)\n",
    "accuracy = tf.reduce_mean(tf.cast(correct_prediction, tf.float32))"
   ]
  },
  {
   "cell_type": "code",
   "execution_count": 6,
   "metadata": {},
   "outputs": [],
   "source": [
    "steps = 10000\n",
    "\n",
    "init = tf.global_variables_initializer()\n",
    "sess = tf.Session()\n",
    "sess.run(init)\n",
    "\n",
    "for i in range(steps):\n",
    "    sess.run(optimizer, feed_dict={x: xtrain, y:ytrain})"
   ]
  },
  {
   "cell_type": "code",
   "execution_count": 7,
   "metadata": {},
   "outputs": [
    {
     "data": {
      "text/plain": [
       "1.0"
      ]
     },
     "execution_count": 7,
     "metadata": {},
     "output_type": "execute_result"
    }
   ],
   "source": [
    "sess.run(accuracy, feed_dict={x: xtest, y: ytest})"
   ]
  },
  {
   "cell_type": "code",
   "execution_count": 8,
   "metadata": {},
   "outputs": [],
   "source": [
    "def feed_data(data):\n",
    "    if len(data) < input_dim: raise ValueError('Data too short')\n",
    "    results = []\n",
    "    for i in range(len(data) - input_steps + 1):\n",
    "        batch = np.array(data[:input_steps])\n",
    "        res = sess.run(rnn_pred, feed_dict={x:[batch]})\n",
    "        results.append([list(res), list(batch)])\n",
    "        data.pop(0)\n",
    "    return results"
   ]
  },
  {
   "cell_type": "code",
   "execution_count": 9,
   "metadata": {},
   "outputs": [
    {
     "data": {
      "text/plain": [
       "[[[1], [array([1]), array([1]), array([1]), array([1]), array([1])]],\n",
       " [[1], [array([1]), array([1]), array([1]), array([1]), array([1])]],\n",
       " [[1], [array([1]), array([1]), array([1]), array([1]), array([1])]],\n",
       " [[1], [array([1]), array([1]), array([1]), array([1]), array([1])]],\n",
       " [[1], [array([1]), array([1]), array([1]), array([1]), array([1])]],\n",
       " [[1], [array([1]), array([1]), array([1]), array([1]), array([1])]],\n",
       " [[1], [array([1]), array([1]), array([1]), array([1]), array([1])]],\n",
       " [[1], [array([1]), array([1]), array([1]), array([1]), array([1])]],\n",
       " [[1], [array([1]), array([1]), array([1]), array([1]), array([1])]],\n",
       " [[0], [array([1]), array([1]), array([1]), array([1]), array([0])]],\n",
       " [[0], [array([1]), array([1]), array([1]), array([0]), array([0])]],\n",
       " [[0], [array([1]), array([1]), array([0]), array([0]), array([1])]],\n",
       " [[0], [array([1]), array([0]), array([0]), array([1]), array([1])]],\n",
       " [[1], [array([0]), array([0]), array([1]), array([1]), array([1])]],\n",
       " [[1], [array([0]), array([1]), array([1]), array([1]), array([1])]],\n",
       " [[1], [array([1]), array([1]), array([1]), array([1]), array([1])]]]"
      ]
     },
     "execution_count": 9,
     "metadata": {},
     "output_type": "execute_result"
    }
   ],
   "source": [
    "feed_data([[1],[1],[1],[1],[1],[1],[1],[1],[1],[1],[1],[1],[1],[0],[0],[1],[1],[1],[1],[1]])"
   ]
  },
  {
   "cell_type": "code",
   "execution_count": null,
   "metadata": {},
   "outputs": [],
   "source": []
  }
 ],
 "metadata": {
  "kernelspec": {
   "display_name": "Python 3",
   "language": "python",
   "name": "python3"
  },
  "language_info": {
   "codemirror_mode": {
    "name": "ipython",
    "version": 3
   },
   "file_extension": ".py",
   "mimetype": "text/x-python",
   "name": "python",
   "nbconvert_exporter": "python",
   "pygments_lexer": "ipython3",
   "version": "3.5.2"
  }
 },
 "nbformat": 4,
 "nbformat_minor": 2
}
