{
 "cells": [
  {
   "cell_type": "code",
   "execution_count": 15,
   "metadata": {
    "collapsed": false,
    "scrolled": true
   },
   "outputs": [],
   "source": [
    "%matplotlib inline\n",
    "\n",
    "import matplotlib\n",
    "import numpy as np\n",
    "import matplotlib.pyplot as plt\n",
    "from ipywidgets import widgets, interact\n",
    "from IPython.display import display\n",
    "import copy"
   ]
  },
  {
   "cell_type": "code",
   "execution_count": 16,
   "metadata": {
    "collapsed": false
   },
   "outputs": [],
   "source": [
    "filename = 'test'\n",
    "#byte or text\n",
    "bt = 't'\n",
    "\n",
    "import csv\n",
    "file = open(filename+'.csv', 'r'+bt)\n",
    "reader = csv.reader(file)\n",
    "dataset = []\n",
    "for row in reader:\n",
    "    dataset.append(list(map(int, row)))\n",
    "\n",
    "#data1 = [1,2,3,4,5,6]\n",
    "#data2 = [1,1,1,1,1,1]\n",
    "#data3 = [1,2,1,2,1,2]\n",
    "#dataset = [data1,data2,data3]\n",
    "dataset_org = copy.deepcopy(dataset)\n",
    "cur_index = 0"
   ]
  },
  {
   "cell_type": "code",
   "execution_count": 17,
   "metadata": {
    "collapsed": false
   },
   "outputs": [],
   "source": [
    "trunc_index = []\n",
    "for data in dataset:\n",
    "    trunc_index.append({'x': 0,'y': len(data)-1})"
   ]
  },
  {
   "cell_type": "code",
   "execution_count": 26,
   "metadata": {
    "collapsed": false
   },
   "outputs": [
    {
     "data": {
      "image/png": "[encoded data removed]",
      "text/plain": [
       "<matplotlib.figure.Figure at 0x7f38b3e1bba8>"
      ]
     },
     "metadata": {},
     "output_type": "display_data"
    }
   ],
   "source": [
    "indexSel = widgets.Dropdown(options=list(range(len(dataset))),\n",
    "    description='data set:', value=cur_index)\n",
    "#def index_change(change):\n",
    "#    if change['type'] == 'change' and change['name'] == 'value':\n",
    "#        index = change['new']\n",
    "#        draw_data_cutter(dataset[index])\n",
    "#indexSel.observe(index_change)\n",
    "\n",
    "btnOk = widgets.Button(description='Truncate')\n",
    "def truncate(b):\n",
    "    x = trunc_index[cur_index]['x']\n",
    "    y = trunc_index[cur_index]['y']+1\n",
    "    data = dataset[cur_index]\n",
    "    del data[y:]\n",
    "    del data[:x]\n",
    "    set_trunc_x(0)\n",
    "    set_trunc_y(len(data))\n",
    "    draw_data_cutter(cur_index)\n",
    "btnOk.on_click(truncate)\n",
    "\n",
    "btnReset = widgets.Button(description='Reset')\n",
    "def reset(b):\n",
    "    dataset[cur_index] = copy.copy(dataset_org[cur_index])\n",
    "    set_trunc_x(0)\n",
    "    set_trunc_y(len(dataset[cur_index])-1)\n",
    "    draw_data_cutter(cur_index)\n",
    "btnReset.on_click(reset)\n",
    "\n",
    "btnSave = widgets.Button(description='Save')\n",
    "def save(b):\n",
    "    #todo\n",
    "    file = open(filename+'_trunc.csv', 'w'+bt)\n",
    "    writer = csv.writer(file)\n",
    "    for data in dataset:\n",
    "        writer.writerow(data)\n",
    "    print('Saved!')\n",
    "btnSave.on_click(save)\n",
    "\n",
    "trunc_sl = widgets.IntRangeSlider(value=[0,1], min=0, max=trunc_index[cur_index]['y'])\n",
    "def update_trunc(change):\n",
    "    x = change['new'][0]\n",
    "    y = change['new'][1]\n",
    "    set_trunc_x(x)\n",
    "    set_trunc_y(y)\n",
    "trunc_sl.observe(update_trunc, names='value')\n",
    "\n",
    "def draw_data_cutter(index):\n",
    "    global cur_index \n",
    "    cur_index = index\n",
    "    plt.plot(range(len(dataset[index])),dataset[index])\n",
    "    x = trunc_index[index]['x']\n",
    "    y = trunc_index[index]['y']\n",
    "    plt.axvspan(x, y, color='green', alpha=0.1)\n",
    "    trunc_sl.max = len(dataset[index])-1\n",
    "    set_trunc_x(x)\n",
    "    set_trunc_y(y)\n",
    "        \n",
    "def set_trunc_x(x):\n",
    "    trunc_index[cur_index]['x'] = x\n",
    "    y = trunc_index[cur_index]['y']\n",
    "    trunc_sl.value = [x,y]\n",
    "def set_trunc_y(y):\n",
    "    trunc_index[cur_index]['y'] = y\n",
    "    x = trunc_index[cur_index]['x']\n",
    "    trunc_sl.value = [x,y]\n",
    "    \n",
    "    \n",
    "display(btnOk,btnReset,btnSave)\n",
    "interact(draw_data_cutter, index=indexSel)\n",
    "display(trunc_sl)"
   ]
  }
 ],
 "metadata": {
  "kernelspec": {
   "display_name": "Python 3",
   "language": "python",
   "name": "python3"
  },
  "language_info": {
   "codemirror_mode": {
    "name": "ipython",
    "version": 3
   },
   "file_extension": ".py",
   "mimetype": "text/x-python",
   "name": "python",
   "nbconvert_exporter": "python",
   "pygments_lexer": "ipython3",
   "version": "3.4.3"
  },
  "widgets": {
   "state": {
    "00fd3227150c401ea5ebbafc2fd3c5cc": {
     "views": [
      {
       "cell_index": 3
      }
     ]
    },
    "0acff679736c4a6db1cad72e85b80054": {
     "views": [
      {
       "cell_index": 3
      }
     ]
    },
    "0be34e07d4984379ad8f6d0817f70ccb": {
     "views": [
      {
       "cell_index": 2
      }
     ]
    },
    "0cf4f18b97264253b064887b75198d4e": {
     "views": [
      {
       "cell_index": 3
      }
     ]
    },
    "11fd073f00fa4325bde308abea58dc4f": {
     "views": [
      {
       "cell_index": 3
      }
     ]
    },
    "165086eb108f4e07af6f16fdf6d156d0": {
     "views": [
      {
       "cell_index": 3
      }
     ]
    },
    "16c59516864e4658a5c7023a7acec797": {
     "views": [
      {
       "cell_index": 3
      }
     ]
    },
    "18d8cd6969294c588abf2a4898f4ae24": {
     "views": [
      {
       "cell_index": 3
      }
     ]
    },
    "1a5aca9585ac4002b5bbeaca63d94af0": {
     "views": [
      {
       "cell_index": 3
      }
     ]
    },
    "1b9a72c5633948d5b6dab87a0e83aefa": {
     "views": [
      {
       "cell_index": 2
      }
     ]
    },
    "22d84472f0544d669182a9be9b36715b": {
     "views": [
      {
       "cell_index": 3
      }
     ]
    },
    "24fb2b51b3a74fdea7f14083a7d5b697": {
     "views": [
      {
       "cell_index": 3
      }
     ]
    },
    "2a64496f93ed41ebae501afd3fd6ed92": {
     "views": [
      {
       "cell_index": 3
      }
     ]
    },
    "2b382a07eb3f4f8cbee2b64d266f2b00": {
     "views": [
      {
       "cell_index": 2
      }
     ]
    },
    "2c9b59a02e4e4995ab7e12ebd0247040": {
     "views": [
      {
       "cell_index": 3
      }
     ]
    },
    "31421979908e44a1b5e3089cce141715": {
     "views": [
      {
       "cell_index": 3
      }
     ]
    },
    "31ec7e0955004fc4aff722ba014aa8f5": {
     "views": [
      {
       "cell_index": 3
      }
     ]
    },
    "3525414d886d48098fb728d906883e70": {
     "views": [
      {
       "cell_index": 3
      }
     ]
    },
    "3a1636006ffd4f9797b1d4e333a3e85e": {
     "views": [
      {
       "cell_index": 3
      }
     ]
    },
    "3aa69b7edbd24020b92e0b7f5ab179de": {
     "views": [
      {
       "cell_index": 3
      }
     ]
    },
    "3aea9c25cae443218fc90ff6e35aac4f": {
     "views": [
      {
       "cell_index": 3
      }
     ]
    },
    "3bbad68dc26d4d34acbf6f7041ecfb96": {
     "views": [
      {
       "cell_index": 3
      }
     ]
    },
    "3d0fb21ea1304ec6af3d6c7e13c73870": {
     "views": [
      {
       "cell_index": 3
      }
     ]
    },
    "3e38ced80620493d83c5e09708729d5e": {
     "views": [
      {
       "cell_index": 2
      }
     ]
    },
    "423cc33e2915446db01a65dcfb26f0c4": {
     "views": [
      {
       "cell_index": 3
      }
     ]
    },
    "46e27f5e74134ea8bf8b7e25c70afc1a": {
     "views": [
      {
       "cell_index": 3
      }
     ]
    },
    "473bbb103bd447189f0e579a34c8e50f": {
     "views": [
      {
       "cell_index": 3
      }
     ]
    },
    "47e0c6a246cd4c5facf4648076c6b0a5": {
     "views": [
      {
       "cell_index": 2
      }
     ]
    },
    "4b0a73b7462f4e8aa3411d37aa4327dd": {
     "views": [
      {
       "cell_index": 3
      }
     ]
    },
    "4b38a4684dcd4251a3c35408eb23d7a4": {
     "views": [
      {
       "cell_index": 3
      }
     ]
    },
    "4d16d67378fa4736bcddaf3e62488f70": {
     "views": [
      {
       "cell_index": 3
      }
     ]
    },
    "4de89189557146b68881cbd5d5711312": {
     "views": [
      {
       "cell_index": 3
      }
     ]
    },
    "4df2df917f824d6ea8dbadd74561ab0a": {
     "views": [
      {
       "cell_index": 3
      }
     ]
    },
    "4e5887f13e2249d9b9ff33c804472b4c": {
     "views": [
      {
       "cell_index": 3
      }
     ]
    },
    "557fddbee6824d12820680eed2fe68d4": {
     "views": [
      {
       "cell_index": 2
      }
     ]
    },
    "583fee47246a4018b2b6dce8e074cc7a": {
     "views": [
      {
       "cell_index": 2
      }
     ]
    },
    "58fd9ae235aa4d16b33ded70ec7e9df7": {
     "views": [
      {
       "cell_index": 3
      }
     ]
    },
    "5b0c1fb621414cebbf32c3cf8f00859f": {
     "views": [
      {
       "cell_index": 3
      }
     ]
    },
    "5b91a5c5e8374285bd47f7dc372f089f": {
     "views": [
      {
       "cell_index": 3
      }
     ]
    },
    "5c321a1007a54260ada79820116c7f8e": {
     "views": [
      {
       "cell_index": 3
      }
     ]
    },
    "5c68a32be6f04ffd95c2ddc80f22db54": {
     "views": [
      {
       "cell_index": 2
      }
     ]
    },
    "5f20fe1edab642848d98dad4c51b33c5": {
     "views": [
      {
       "cell_index": 3
      }
     ]
    },
    "6229abfbd95446b1b2b7d498e637753d": {
     "views": [
      {
       "cell_index": 2
      }
     ]
    },
    "62dd80ac83c64bd2ae768c138164e5da": {
     "views": [
      {
       "cell_index": 3
      }
     ]
    },
    "6327e3253990477eb8f08c43b2052a70": {
     "views": [
      {
       "cell_index": 3
      }
     ]
    },
    "633fda583a794fadaa58e18facf2347b": {
     "views": [
      {
       "cell_index": 2
      }
     ]
    },
    "658b854227394998bfb6d6821a044b63": {
     "views": [
      {
       "cell_index": 3
      }
     ]
    },
    "66e923509bc54016ae8572feab853734": {
     "views": [
      {
       "cell_index": 3
      }
     ]
    },
    "685e715dc461401fb1b55d6cdf2969d5": {
     "views": [
      {
       "cell_index": 3
      },
      {
       "cell_index": 3
      }
     ]
    },
    "68d4f1100e11439b85397232f97e14ac": {
     "views": [
      {
       "cell_index": 2
      }
     ]
    },
    "6d677d5f9d294a4f96bf24fe783b8b2f": {
     "views": [
      {
       "cell_index": 3
      }
     ]
    },
    "7a008fbb6ae94684b584eca32e9fd421": {
     "views": [
      {
       "cell_index": 3
      }
     ]
    },
    "7cff1c98ea5742f4b50db4ca6ea03701": {
     "views": [
      {
       "cell_index": 3
      }
     ]
    },
    "8034057c42bc44b6aca3bbce39c4cd12": {
     "views": [
      {
       "cell_index": 3
      }
     ]
    },
    "84e6083532094c3795aa0a323c58a4e6": {
     "views": [
      {
       "cell_index": 3
      }
     ]
    },
    "8551b1a9d4434e79bf0e3b4df9346b5d": {
     "views": [
      {
       "cell_index": 3
      }
     ]
    },
    "861e8a182fa241e7a5dd8f7f3c21401e": {
     "views": [
      {
       "cell_index": 3
      }
     ]
    },
    "8672fdf41a0747ea8fbb732e98dd4664": {
     "views": [
      {
       "cell_index": 2
      }
     ]
    },
    "87c59a459be6430c822633171973e857": {
     "views": [
      {
       "cell_index": 3
      }
     ]
    },
    "88b93c0bc15b4f1b95b5082d78f6cf29": {
     "views": [
      {
       "cell_index": 3
      }
     ]
    },
    "8962ce5f0fe0479cbe11a9adb355d036": {
     "views": [
      {
       "cell_index": 3
      }
     ]
    },
    "8c1979309d0f4dbfb6603c033f28b95c": {
     "views": [
      {
       "cell_index": 3
      }
     ]
    },
    "8e48ac5e43f94f27bd0de78c7ad4bffd": {
     "views": [
      {
       "cell_index": 3
      }
     ]
    },
    "91ec29828d2f43b9882f537a03ebf457": {
     "views": [
      {
       "cell_index": 3
      }
     ]
    },
    "9262ac93352e40f7832c6a4a4f319f63": {
     "views": [
      {
       "cell_index": 2
      }
     ]
    },
    "92d62ec391a945058a19cb91c0615b78": {
     "views": [
      {
       "cell_index": 3
      }
     ]
    },
    "93d08eee3f87451793939c367d1da9fe": {
     "views": [
      {
       "cell_index": 3
      }
     ]
    },
    "98899c2748ac40fdb22a00c1718a25cb": {
     "views": [
      {
       "cell_index": 3
      }
     ]
    },
    "9aef47fa1c6d478e8b9aa4fc4cec2236": {
     "views": [
      {
       "cell_index": 3
      }
     ]
    },
    "9af886c17c6f488d8cae38041c11357d": {
     "views": [
      {
       "cell_index": 3
      }
     ]
    },
    "9d89af9972734a8ba3a2b76d463081f5": {
     "views": [
      {
       "cell_index": 2
      }
     ]
    },
    "a342e6963add4c1eaedcf0f054710e61": {
     "views": [
      {
       "cell_index": 3
      }
     ]
    },
    "a639b5af5c8040f98308481ef1ca4c2c": {
     "views": [
      {
       "cell_index": 3
      }
     ]
    },
    "a6d8435b55fc4ef5aee463f542ab4980": {
     "views": [
      {
       "cell_index": 3
      }
     ]
    },
    "ab2382698d3d48f1b60075c7915a6407": {
     "views": [
      {
       "cell_index": 3
      }
     ]
    },
    "abc63104ea8241898a509180e189a785": {
     "views": [
      {
       "cell_index": 3
      }
     ]
    },
    "b0c453bf35504bbaa56555c2ee6ba8ca": {
     "views": [
      {
       "cell_index": 2
      }
     ]
    },
    "b175d2e6f84847dd8f2b1171418ab7dd": {
     "views": [
      {
       "cell_index": 2
      }
     ]
    },
    "b176a668166540579b950765744116d8": {
     "views": [
      {
       "cell_index": 3
      }
     ]
    },
    "b4d438a0a38a4a70a5215e49c879f812": {
     "views": [
      {
       "cell_index": 2
      }
     ]
    },
    "b6fb66de5bee4be2a89bad807c004004": {
     "views": [
      {
       "cell_index": 3
      }
     ]
    },
    "b770b7340ff5475aa23f797e92c14164": {
     "views": [
      {
       "cell_index": 3
      }
     ]
    },
    "b7cbdfdcfbf34158aa946f09c2ad9814": {
     "views": [
      {
       "cell_index": 3
      }
     ]
    },
    "b904e21c079b4281baf89eb7ebf77040": {
     "views": [
      {
       "cell_index": 2
      }
     ]
    },
    "be2682cd08bc4ca49f6b1eb5993892ac": {
     "views": [
      {
       "cell_index": 2
      }
     ]
    },
    "c302424e0a5143f3a97800661549aaba": {
     "views": [
      {
       "cell_index": 2
      }
     ]
    },
    "c514877b57b94bdd93738601ce4114ae": {
     "views": [
      {
       "cell_index": 3
      }
     ]
    },
    "c7df302124db4f67adb30528ee9a631e": {
     "views": [
      {
       "cell_index": 3
      }
     ]
    },
    "caa0d84f5eb848f882e2fd57a0f028f1": {
     "views": [
      {
       "cell_index": 3
      }
     ]
    },
    "cd5799e475aa49d68aebc9efad89a5ee": {
     "views": [
      {
       "cell_index": 3
      }
     ]
    },
    "d08d5397ea814321bf7a69f501ce2d13": {
     "views": [
      {
       "cell_index": 3
      }
     ]
    },
    "d20a0363f54f4be1ae29591cb389a787": {
     "views": [
      {
       "cell_index": 3
      }
     ]
    },
    "d39539da256748f49d11a5b1945c9466": {
     "views": [
      {
       "cell_index": 3
      }
     ]
    },
    "d6177a3f16f146b18d5a4ea0784f7c6f": {
     "views": [
      {
       "cell_index": 3
      }
     ]
    },
    "d79f23faf41347b9948e76cca14d5f83": {
     "views": [
      {
       "cell_index": 3
      }
     ]
    },
    "d9a428366aba4f5bbabb7172393f0586": {
     "views": [
      {
       "cell_index": 3
      }
     ]
    },
    "db75a207fa404f6791e695a3d6209ec8": {
     "views": [
      {
       "cell_index": 2
      }
     ]
    },
    "dd98b4c1c1f241199091fbac8ad5b942": {
     "views": [
      {
       "cell_index": 3
      }
     ]
    },
    "de3fb459a54742caa9526e316a12833b": {
     "views": [
      {
       "cell_index": 3
      }
     ]
    },
    "ded2840310a2420c8248323afea06fe6": {
     "views": [
      {
       "cell_index": 2
      }
     ]
    },
    "e1c98d5029794c1ea9e238ab03fbde58": {
     "views": [
      {
       "cell_index": 3
      }
     ]
    },
    "e21fecaa8bdf488590075e3719a0d3f7": {
     "views": [
      {
       "cell_index": 3
      }
     ]
    },
    "e24ddcb938f349e99d8e10f1f6c69763": {
     "views": [
      {
       "cell_index": 3
      }
     ]
    },
    "e3f2212ba98b41ee86e25ddac3623e5c": {
     "views": [
      {
       "cell_index": 3
      }
     ]
    },
    "e4e37bc364e24a86a9d9e33687624387": {
     "views": [
      {
       "cell_index": 3
      }
     ]
    },
    "e95de99272a14b9ab1bd37a26c76cf7c": {
     "views": [
      {
       "cell_index": 3
      }
     ]
    },
    "eec334dfa3a44d83b112568416e6055b": {
     "views": [
      {
       "cell_index": 3
      }
     ]
    },
    "f00fc832736346289d6d9ae585ae9447": {
     "views": [
      {
       "cell_index": 2
      }
     ]
    },
    "f0c5c31fcbb8477ba5c38847b98b6cdf": {
     "views": [
      {
       "cell_index": 3
      }
     ]
    },
    "f331f50c4232461b94f0266584217e58": {
     "views": [
      {
       "cell_index": 3
      }
     ]
    },
    "f3585dfbc4d74a27bdc2210b2bf1c732": {
     "views": [
      {
       "cell_index": 3
      }
     ]
    },
    "f5d8629ca90f4818b745d0562b9a0838": {
     "views": [
      {
       "cell_index": 3
      }
     ]
    },
    "f9e607a8da414f2e9692b5102abc5868": {
     "views": [
      {
       "cell_index": 3
      }
     ]
    },
    "ffd519f65c484b628d525bdc03400b26": {
     "views": [
      {
       "cell_index": 3
      }
     ]
    }
   },
   "version": "1.2.0"
  }
 },
 "nbformat": 4,
 "nbformat_minor": 0
}
