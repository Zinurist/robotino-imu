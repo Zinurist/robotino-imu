{
 "cells": [
  {
   "cell_type": "code",
   "execution_count": null,
   "metadata": {
    "collapsed": true
   },
   "outputs": [],
   "source": [
    "import tensorflow as tf\n",
    "import numpy as np\n",
    "import samples as ls\n",
    "import model_types\n",
    "\n",
    "load_samples = False\n",
    "model_num = 101\n",
    "\n",
    "if model_num == 0:\n",
    "    input_dim = 6\n",
    "    input_steps = 20\n",
    "    hidden_layers = [50,10]\n",
    "    labels,sample_ids,filename = model_types.get_labels(0)\n",
    "elif model_num == 1:\n",
    "    input_dim = 6\n",
    "    input_steps = 20\n",
    "    hidden_layers = [50,10]\n",
    "    labels,sample_ids,filename = model_types.get_labels(1)\n",
    "elif model_num == 10:\n",
    "    input_dim = 6\n",
    "    input_steps = 50\n",
    "    hidden_layers = [50,10]\n",
    "    labels,sample_ids,filename = model_types.get_labels(10)\n",
    "elif model_num == 100:\n",
    "    input_dim = 6\n",
    "    input_steps = 50\n",
    "    hidden_layers = [50,10]\n",
    "    labels,sample_ids,filename = model_types.get_labels(11)\n",
    "elif model_num == 101:\n",
    "    input_dim = 6\n",
    "    input_steps = 50\n",
    "    hidden_layers = [50]\n",
    "    labels,sample_ids,filename = model_types.get_labels(11)\n",
    "else:\n",
    "    raise ValueError('Unknown model num')\n",
    "    \n",
    "classes = len(labels)\n",
    "\n",
    "#percentage used for test data\n",
    "test_rate = 0.1\n",
    "\n",
    "learning_rate = 0.01"
   ]
  },
  {
   "cell_type": "code",
   "execution_count": null,
   "metadata": {
    "collapsed": true
   },
   "outputs": [],
   "source": [
    "if load_samples:\n",
    "    samples = ls.load(filename)\n",
    "else:\n",
    "    samples = ls.Samples(labels)\n",
    "\n",
    "    for label in labels:\n",
    "        samples.load_samples(label = label, sample_ids = sample_ids)\n",
    "    \n",
    "    samples.convert_to_input(size = None, accel='xyz', gyro='xyz', compass='')\n",
    "    \n",
    "samples.unroll(input_steps)\n",
    "samples.split_test(test_rate)\n",
    "samples.flatten()"
   ]
  },
  {
   "cell_type": "code",
   "execution_count": null,
   "metadata": {
    "collapsed": true
   },
   "outputs": [],
   "source": [
    "tf.logging.set_verbosity(tf.logging.ERROR)\n",
    "\n",
    "#x,y instead of input_fn\n",
    "#padding is set to false, since all samples already have to have the same length \n",
    "#(if not, unroll was called with to big of a step size)\n",
    "xtrain_all,ytrain_all,_ = samples.get_all(padding=False)\n",
    "xtrain_all = np.array(xtrain_all)\n",
    "ytrain_all = np.array(ytrain_all)\n",
    "xtest,ytest,_ = samples.get_test(padding=False)\n",
    "xtest = np.array(xtest)\n",
    "ytest = np.array(ytest)\n",
    "\n",
    "validation_monitor = tf.contrib.learn.monitors.ValidationMonitor(\n",
    "    xtest,\n",
    "    ytest,\n",
    "    every_n_steps=1)\n",
    "\n",
    "feature_columns = [tf.contrib.layers.real_valued_column(\n",
    "    \"\", \n",
    "    dimension=input_dim*input_steps)]\n",
    "classifier = tf.contrib.learn.DNNClassifier(\n",
    "    feature_columns=feature_columns,\n",
    "    hidden_units=hidden_layers,\n",
    "    n_classes=classes,\n",
    "    model_dir='tmp/dnn/model-%s' % model_num,\n",
    "    config=tf.contrib.learn.RunConfig(save_checkpoints_steps=1, save_checkpoints_secs=None)\n",
    "    )\n",
    "\n",
    "    "
   ]
  },
  {
   "cell_type": "code",
   "execution_count": null,
   "metadata": {
    "collapsed": true
   },
   "outputs": [],
   "source": [
    "def train(epochs, steps, batch_size):\n",
    "\n",
    "    for i in range(epochs):\n",
    "        xtrain,ytrain,_ = samples.get_batch(batch_size, padding=False)\n",
    "        xtrain = np.array(xtrain)\n",
    "        ytrain = np.array(ytrain)\n",
    "        \n",
    "        classifier.fit(x=xtrain, y=ytrain, steps=steps, monitors=[validation_monitor])\n",
    "        accuracy = classifier.evaluate(x=xtest, y=ytest)\n",
    "        print('Progress: %s' % (float(i)/epochs))\n",
    "        print('Accuracy: %s' % accuracy[\"accuracy\"])\n",
    "    accuracy = classifier.evaluate(x=xtrain_all, y=ytrain_all)\n",
    "    print('Accuracy all: %s' % accuracy[\"accuracy\"])\n",
    "\n",
    "def per_label_acc():\n",
    "    accs = [0] * classes\n",
    "    counts = [0] * classes\n",
    "\n",
    "    for i in range(len(ytest)):\n",
    "        y = ytest[i]\n",
    "        x = xtest[i]\n",
    "        accuracy = classifier.evaluate(x=np.array([x]), y=np.array([y]))\n",
    "\n",
    "        accs[y] += accuracy['accuracy']\n",
    "        counts[y] += 1\n",
    "\n",
    "    for i in range(classes):\n",
    "        acc = accs[i]/counts[i]\n",
    "        print('%s: %s' % (labels[i],acc))"
   ]
  },
  {
   "cell_type": "code",
   "execution_count": null,
   "metadata": {},
   "outputs": [],
   "source": [
    "if True:\n",
    "    train(1000,10,20)"
   ]
  },
  {
   "cell_type": "code",
   "execution_count": null,
   "metadata": {},
   "outputs": [],
   "source": [
    "if True:\n",
    "    per_label_acc()"
   ]
  },
  {
   "cell_type": "code",
   "execution_count": null,
   "metadata": {
    "collapsed": true
   },
   "outputs": [],
   "source": [
    "def feed_data(data):\n",
    "    res = classifier.predict(x=np.array([data]), as_iterable=False)\n",
    "    return res"
   ]
  },
  {
   "cell_type": "code",
   "execution_count": null,
   "metadata": {},
   "outputs": [],
   "source": [
    "#live demo\n",
    "%env ROS_HOSTNAME=zinunb\n",
    "%env ROS_IP=$(hostname -I)\n",
    "%env ROS_MASTER_URI=http://pi:11311\n",
    "\n",
    "if False:\n",
    "    import imu_listener as il\n",
    "    reset()\n",
    "    il.imu_listener(feed_data,labels,input_steps)\n",
    "    print('Exited')"
   ]
  }
 ],
 "metadata": {
  "kernelspec": {
   "display_name": "Python 2",
   "language": "python",
   "name": "python2"
  },
  "language_info": {
   "codemirror_mode": {
    "name": "ipython",
    "version": 2
   },
   "file_extension": ".py",
   "mimetype": "text/x-python",
   "name": "python",
   "nbconvert_exporter": "python",
   "pygments_lexer": "ipython2",
   "version": "2.7.12"
  }
 },
 "nbformat": 4,
 "nbformat_minor": 2
}
