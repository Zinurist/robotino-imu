{
 "cells": [
  {
   "cell_type": "code",
   "execution_count": null,
   "metadata": {
    "collapsed": true
   },
   "outputs": [],
   "source": [
    "#Used to create the example tensorflow graph\n",
    "\n",
    "import tensorflow as tf\n",
    "x = tf.placeholder(tf.float32, [None, 100], name='x')\n",
    "y = tf.placeholder(tf.float32, [None, 10], name='y')\n",
    "\n",
    "\n",
    "W1 = tf.Variable(tf.zeros([100, 10]), name='weights')\n",
    "b1 = tf.Variable(tf.zeros([10]), name='bias')\n",
    "\n",
    "y1 = tf.matmul(x, W1) + b1\n",
    "\n",
    "prob = tf.nn.softmax(y1, name='probs')\n",
    "prediction = tf.argmax(prob, 1, name='prediction')\n",
    "\n",
    "#important: logits=op before calling softmax!!\n",
    "loss = tf.reduce_mean(\n",
    "    tf.nn.softmax_cross_entropy_with_logits(labels=y, logits=y1))\n",
    "\n",
    "optimizer = tf.train.AdamOptimizer(0.01).minimize(loss)\n"
   ]
  },
  {
   "cell_type": "code",
   "execution_count": null,
   "metadata": {},
   "outputs": [],
   "source": [
    "sess = tf.Session()\n",
    "init = tf.global_variables_initializer()\n",
    "sess.run(init)    \n",
    "merged = tf.summary.merge_all()\n",
    "train_writer = tf.summary.FileWriter('tmp/example/simple2', sess.graph)\n",
    "\n",
    "saver = tf.train.Saver()\n",
    "saver.save(sess, 'tmp/example/simple2')"
   ]
  }
 ],
 "metadata": {
  "kernelspec": {
   "display_name": "Python 3",
   "language": "python",
   "name": "python3"
  },
  "language_info": {
   "codemirror_mode": {
    "name": "ipython",
    "version": 3
   },
   "file_extension": ".py",
   "mimetype": "text/x-python",
   "name": "python",
   "nbconvert_exporter": "python",
   "pygments_lexer": "ipython3",
   "version": "3.5.3"
  }
 },
 "nbformat": 4,
 "nbformat_minor": 2
}
