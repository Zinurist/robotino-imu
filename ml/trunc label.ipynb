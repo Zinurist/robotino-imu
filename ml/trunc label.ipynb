{
 "cells": [
  {
   "cell_type": "code",
   "execution_count": null,
   "metadata": {},
   "outputs": [],
   "source": [
    "#Tool to make labelling of the data easier.\n",
    "#GUI explanation:\n",
    "#Auto-truncate/Auto all: truncate the current/all samples with the label algorithm\n",
    "#Slider: use the slider to label by hand, Truncate all needs to be pressed to apply the changes!!!\n",
    "#Save: save the samples object as a json file\n",
    "#Prev/Next: navigate through the samples"
   ]
  },
  {
   "cell_type": "code",
   "execution_count": null,
   "metadata": {
    "collapsed": true,
    "scrolled": true
   },
   "outputs": [],
   "source": [
    "#IMPORTS\n",
    "%matplotlib notebook\n",
    "\n",
    "import matplotlib\n",
    "import numpy as np\n",
    "import matplotlib.pyplot as plt\n",
    "from ipywidgets import widgets, interact\n",
    "from IPython.display import display\n",
    "import samples as ls\n",
    "import model_types\n",
    "\n",
    "load_test = True\n",
    "\n",
    "load_samples = True\n",
    "model_type = 1\n",
    "accel,gyro,compass = 'xyz','xyz',''\n",
    "DIM = len(accel)+len(gyro)+len(compass)"
   ]
  },
  {
   "cell_type": "code",
   "execution_count": null,
   "metadata": {},
   "outputs": [],
   "source": [
    "#LOAD DATA - MONGO VARIANT\n",
    "\n",
    "labels,sample_ids,filename = model_types.get_labels(model_type, load_test)\n",
    "\n",
    "straight = 0\n",
    "label_index = []\n",
    "dataset = []\n",
    "\n",
    "#not relevant for angle tasks\n",
    "if model_type < 10:\n",
    "    #data for auto truncating\n",
    "    #weights used when auto truncating\n",
    "    weights_dict = {'straight':  [1,0,0, 0,0,0, 0,0,0],\n",
    "                    'curve_s_l': [0,0,0, 0,0,1, 0,0,0],\n",
    "                    'curve_s_r': [0,0,0, 0,0,1, 0,0,0],\n",
    "                    'curve_m_l': [0,0,0, 0,0,1, 0,0,0],\n",
    "                    'curve_m_r': [0,0,0, 0,0,1, 0,0,0],\n",
    "                    'curve_l_l': [0,0,0, 0,0,1, 0,0,0],\n",
    "                    'curve_l_r': [0,0,0, 0,0,1, 0,0,0],\n",
    "                    'curve_ml_r': [0,0,0, 0,0,1, 0,0,0],\n",
    "                    'curve_sm_r': [0,0,0, 0,0,1, 0,0,0],\n",
    "                    'curve_ml_l': [0,0,0, 0,0,1, 0,0,0],\n",
    "                    'curve_sm_l': [0,0,0, 0,0,1, 0,0,0],\n",
    "                    'wall': [0,1,0, 0,0,0, 0,0,0],\n",
    "                    'foot': [0.9,0.1,0, 0,0,0, 0,0,0],\n",
    "                    'object_l': [0,0,0, 0,1,0, 0,0,0],\n",
    "                    'object_r': [0,0,0, 0,0,1, 0,0,0],\n",
    "                    'angle': [1./6.,1./6.,1./6., 1./6.,1./6.,1./6., 0,0,0]\n",
    "                   }\n",
    "    \n",
    "    for key in weights_dict:\n",
    "        w = []\n",
    "        if 'x' in accel: w.append(weights_dict[key][0])\n",
    "        if 'y' in accel: w.append(weights_dict[key][1])\n",
    "        if 'z' in accel: w.append(weights_dict[key][2])\n",
    "        if 'x' in gyro: w.append(weights_dict[key][3])\n",
    "        if 'y' in gyro: w.append(weights_dict[key][4])\n",
    "        if 'z' in gyro: w.append(weights_dict[key][5])\n",
    "        if 'x' in compass: w.append(weights_dict[key][6])\n",
    "        if 'y' in compass: w.append(weights_dict[key][7])\n",
    "        if 'z' in compass: w.append(weights_dict[key][8])\n",
    "        weights_dict[key] = w\n",
    "\n",
    "    offset_dict = {'straight': 0,\n",
    "                    'curve_s_l': 5,\n",
    "                    'curve_s_r': 5,\n",
    "                    'curve_m_l': 5,\n",
    "                    'curve_m_r': 5,\n",
    "                    'curve_l_l': 5,\n",
    "                    'curve_l_r': 5,\n",
    "                    'curve_ml_l': 5,\n",
    "                    'curve_sm_l': 5,\n",
    "                    'curve_ml_r': 5,\n",
    "                    'curve_sm_r': 5,\n",
    "                    'wall': 5,\n",
    "                    'foot': 5,\n",
    "                    'object_l': 10,\n",
    "                    'object_r': 10,\n",
    "                    'angle': 0\n",
    "                   }\n",
    "    duration_dict = {'straight': 0,\n",
    "                    'curve_s_l': 0,\n",
    "                    'curve_s_r': 0,\n",
    "                    'curve_m_l': 0,\n",
    "                    'curve_m_r': 0,\n",
    "                    'curve_l_l': 0,\n",
    "                    'curve_l_r': 0,\n",
    "                    'curve_ml_l': 0,\n",
    "                    'curve_sm_l': 0,\n",
    "                    'curve_ml_r': 0,\n",
    "                    'curve_sm_r': 0,\n",
    "                    'wall': 30,\n",
    "                    'foot': 50,\n",
    "                    'object_l': 50,\n",
    "                    'object_r': 50,\n",
    "                    'angle': 0\n",
    "                   }\n",
    "    percent_dict = {'straight': 0.4,\n",
    "                    'curve_s_l': 0.4,\n",
    "                    'curve_s_r': 0.4,\n",
    "                    'curve_m_l': 0.4,\n",
    "                    'curve_m_r': 0.4,\n",
    "                    'curve_l_l': 0.4,\n",
    "                    'curve_l_r': 0.4,\n",
    "                    'curve_ml_l': 0.4,\n",
    "                    'curve_sm_l': 0.4,\n",
    "                    'curve_ml_r': 0.4,\n",
    "                    'curve_sm_r': 0.4,\n",
    "                    'wall': 0.8,\n",
    "                    'foot': 0.8,\n",
    "                    'object_l': 0.8,\n",
    "                    'object_r': 0.8,\n",
    "                    'angle': 0.4\n",
    "                   }\n",
    "    for l in labels:\n",
    "        if l == 'straight': continue\n",
    "        assert np.isclose(np.sum(weights_dict[l]),1)\n",
    "\n",
    "if load_samples:\n",
    "    samples = ls.load(filename)\n",
    "    #samples = ls.load('data_2.json')\n",
    "    #samples.remove_label('foot')\n",
    "else:\n",
    "    samples = ls.Samples(labels)\n",
    "\n",
    "    for label in labels:\n",
    "        samples.load_samples(label = label, sample_ids = sample_ids)\n",
    "\n",
    "    samples.convert_to_input(size=None, accel=accel, gyro=gyro, compass=compass)\n",
    "\n",
    "cur_index = 0\n",
    "dataset = []\n",
    "dataset_y = []\n",
    "index_reverse = []\n",
    "trunc_index = []\n",
    "trunc_labels = samples.labels_data\n",
    "for label in labels:\n",
    "    data = samples.data[label]\n",
    "    labels_data = samples.labels_data[label]\n",
    "    \n",
    "    assert len(data) == len(labels_data)\n",
    "    for i in range(len(data)):\n",
    "        dataset.append(data[i])\n",
    "        index_reverse.append(i)\n",
    "    \n",
    "        first = 0\n",
    "        last = len(labels_data[i])-1\n",
    "        #assert len(labels_data[i]) == len(data[i])\n",
    "        if load_samples:\n",
    "            found = False\n",
    "            class_id = 0\n",
    "            for k in range(len(labels_data[i])):\n",
    "                d = labels_data[i][k]\n",
    "                if d != 0 and not found: #anything else -> class found\n",
    "                    first = k\n",
    "                    class_id = d\n",
    "                    found = True\n",
    "                elif d==0 and found:\n",
    "                    last = k-1\n",
    "                    break;\n",
    "            assert labels[class_id] == label\n",
    "                \n",
    "        dataset_y.append(samples.labels_dict[label])\n",
    "        trunc_index.append({'x': first,'y': last})\n",
    "        "
   ]
  },
  {
   "cell_type": "code",
   "execution_count": null,
   "metadata": {},
   "outputs": [],
   "source": [
    "if True:\n",
    "    for key in labels:\n",
    "        print('%s: %s / %s' % (key, len(samples.data[key]), len(samples.test[key])))"
   ]
  },
  {
   "cell_type": "code",
   "execution_count": null,
   "metadata": {
    "collapsed": true
   },
   "outputs": [],
   "source": [
    "def get_label(index):\n",
    "    if index < len(dataset_y):\n",
    "        return labels[dataset_y[index]]\n",
    "    raise ValueError('Unknown index %s' % index)\n",
    "\n",
    "#window = for moving average\n",
    "def smooth(data, window=10, steps=1):\n",
    "    #if len(data) < window: raise ValueError('Window too small')\n",
    "    \n",
    "    #important: use np.arrays, since only then += is an element wise operation\n",
    "    data = np.array(data)\n",
    "    if window > 1:\n",
    "        data2 = []\n",
    "        for i in range(len(data)-window):\n",
    "            data2.append(np.array([0.0]*DIM))\n",
    "            for m in range(window):\n",
    "                data2[i] += data[i+m]\n",
    "            data2[i] /= window\n",
    "        data = data2\n",
    "    \n",
    "    for k in range(steps):\n",
    "        data2 = []\n",
    "        for i in range(len(data)-2):\n",
    "            data2.append((data[i] + 2*data[i+1] + data[i+2])/4)\n",
    "        data = data2\n",
    "    return data\n",
    "    \n",
    "def calc_trunc(index):\n",
    "    window = 10\n",
    "    steps = 2\n",
    "    data = dataset[index]\n",
    "    last_index = len(data)-1\n",
    "    data = smooth(data, window, steps)\n",
    "    weights = weights_dict[get_label(index)]\n",
    "    offset = offset_dict[get_label(index)]\n",
    "    duration = duration_dict[get_label(index)]\n",
    "    percent = percent_dict[get_label(index)]\n",
    "    \n",
    "    data2 = data#[offset:]\n",
    "    data = []\n",
    "    for i in range(len(data2)):\n",
    "        data.append( np.array([0]*DIM) )\n",
    "    \n",
    "    max_d = np.array([0.0]*DIM)\n",
    "    for i in range(len(data2)-1):\n",
    "        d = np.abs(data2[i+1]-data2[i])\n",
    "        for dim in range(DIM):\n",
    "            if d[dim]>max_d[dim]: max_d[dim] = d[dim]\n",
    "    \n",
    "    max_d = max_d*percent\n",
    "    data[0] = data2[0]\n",
    "    for i in range(1,len(data2)):\n",
    "        d = np.abs(data2[i]-data2[i-1])\n",
    "        for dim in range(DIM):\n",
    "            if d[dim]>=max_d[dim]:\n",
    "                data[i][dim] = 1 #+data[i-1]\n",
    "            else:\n",
    "                data[i][dim] = 0 #+data[i-1]\n",
    "    \n",
    "    found = [False]*DIM\n",
    "    first = [0]*DIM\n",
    "    last = [len(data)-1]*DIM\n",
    "    for dim in range(DIM):\n",
    "        for i in range(len(data)):\n",
    "            if data[i][dim] == 1:\n",
    "                if not found[dim]:\n",
    "                    first[dim] = i\n",
    "                    found[dim] = True\n",
    "                else: \n",
    "                    last[dim] = i\n",
    "    \n",
    "    first = int(.5 + np.average(first, weights=weights))\n",
    "    last = int(.5 + np.average(last, weights=weights))\n",
    "    first = first+offset+window+steps\n",
    "    last = last+offset+window+steps\n",
    "    \n",
    "    last = min(last, last_index)\n",
    "    first = min(first,last)\n",
    "    min_last = min(first+duration, last_index)\n",
    "    last = max(last, min_last)\n",
    "    \n",
    "    return first,last\n",
    "\n",
    "\n",
    "def derive(data):\n",
    "    data2 = []\n",
    "    for i in range(len(data)-10):\n",
    "        d = np.abs(data[i+10]-data[i])\n",
    "        data2.append(d)\n",
    "    return data2\n",
    "\n",
    "def truncs(data):\n",
    "    max_d = np.array([0.0]*DIM)\n",
    "    for i in range(len(data)-10):\n",
    "        d = np.abs(data[i+10]-data[i])\n",
    "        for dim in range(DIM):\n",
    "            if d[dim]>max_d[dim]: max_d[dim] = d[dim]\n",
    "    data2 = data[:]\n",
    "    max_d = max_d*0.8\n",
    "    for i in range(10,len(data2)):\n",
    "        d = np.abs(data2[i]-data2[i-10])\n",
    "        for dim in range(DIM):\n",
    "            if d[dim]>max_d[dim]:\n",
    "                data[i][dim] = 1 #+data[i-1]\n",
    "            else:\n",
    "                data[i][dim] = 0 #+data[i-1]\n",
    "    return data\n",
    "    \n",
    "#for i in range(len(dataset)):\n",
    "    #dataset[i] = smooth(dataset[i], 10, 0)\n",
    "    #dataset[i] = derive(dataset[i])\n",
    "    #dataset[i] = truncs(dataset[i])"
   ]
  },
  {
   "cell_type": "code",
   "execution_count": null,
   "metadata": {
    "collapsed": true
   },
   "outputs": [],
   "source": [
    "#WIDGET INIT\n",
    "\n",
    "btnOk = widgets.Button(description='Truncate all')\n",
    "def truncate(b):\n",
    "    for index in range(len(dataset)):\n",
    "        if get_label(index) == 'straight': continue\n",
    "    \n",
    "        x = trunc_index[index]['x']\n",
    "        y = trunc_index[index]['y']\n",
    "        data = dataset[index]\n",
    "\n",
    "        new_labels = [0]*len(data)\n",
    "        for i in range(x,y+1):\n",
    "            new_labels[i] = dataset_y[index]\n",
    "\n",
    "        trunc_labels[get_label(index)][index_reverse[index]] = new_labels\n",
    "    set_data(cur_index)\n",
    "btnOk.on_click(truncate)\n",
    "\n",
    "btnAuto = widgets.Button(description='Auto truncate')\n",
    "def auto_trunc(b):\n",
    "    #algorithm doesnt work for straight\n",
    "    if get_label(cur_index) == 'straight': return\n",
    "    \n",
    "    x,y = calc_trunc(cur_index)\n",
    "    trunc_index[cur_index]['x'] = x\n",
    "    trunc_index[cur_index]['y'] = y\n",
    "    data = dataset[cur_index]\n",
    "    \n",
    "    new_labels = [0]*len(data)\n",
    "    for i in range(x,y+1):\n",
    "        new_labels[i] = dataset_y[cur_index]\n",
    "    \n",
    "    trunc_labels[get_label(cur_index)][index_reverse[cur_index]] = new_labels\n",
    "    set_data(cur_index)\n",
    "btnAuto.on_click(auto_trunc)\n",
    "\n",
    "btnAutoAll = widgets.Button(description='Auto all')\n",
    "def auto_all(b):\n",
    "    for index in range(len(dataset)):\n",
    "        if get_label(index) == 'straight': continue\n",
    "    \n",
    "        x,y = calc_trunc(index)\n",
    "        trunc_index[index]['x'] = x\n",
    "        trunc_index[index]['y'] = y\n",
    "        data = dataset[index]\n",
    "\n",
    "        new_labels = [0]*len(data)\n",
    "        for i in range(x,y+1):\n",
    "            new_labels[i] = dataset_y[index]\n",
    "\n",
    "        trunc_labels[get_label(index)][index_reverse[index]] = new_labels\n",
    "    set_data(cur_index)\n",
    "btnAutoAll.on_click(auto_all)\n",
    "\n",
    "\n",
    "btnReset = widgets.Button(description='Reset')\n",
    "def reset(b):\n",
    "    trunc_index[cur_index] = {'x': 0, 'y': len(dataset[cur_index])-1}\n",
    "    set_data(cur_index)\n",
    "btnReset.on_click(reset)\n",
    "\n",
    "btnSave = widgets.Button(description='Save')\n",
    "def save(b):\n",
    "    ls.save(samples, filename)\n",
    "    print('Saved! (%s)' % filename)\n",
    "btnSave.on_click(save)\n",
    "\n",
    "\n",
    "trunc_sl = widgets.IntRangeSlider(value=[0,1], min=0, max=trunc_index[cur_index]['y'])\n",
    "def update_trunc(change):\n",
    "    x = change['new'][0]\n",
    "    y = change['new'][1]\n",
    "    trunc_index[cur_index] = {'x': x, 'y': y}\n",
    "    draw_data_cutter()\n",
    "trunc_sl.observe(update_trunc, names='value')\n",
    "\n",
    "txtIndex = widgets.Text(value=str(cur_index))\n",
    "def update_index(sender):\n",
    "    try:\n",
    "        index = int(txtIndex.value)\n",
    "        set_data(index)\n",
    "    except ValueError:\n",
    "        txtIndex.value = str(cur_index)\n",
    "txtIndex.on_submit(update_index)\n",
    "\n",
    "txtLabel = widgets.Text(value=labels[0],disabled=True)\n",
    "    \n",
    "btnPrev = widgets.Button(description='Prev')\n",
    "def prev_data(b):\n",
    "    global cur_index\n",
    "    cur_index -= 1\n",
    "    if(cur_index < 0): cur_index = 0\n",
    "    else: set_data(cur_index)\n",
    "btnPrev.on_click(prev_data)\n",
    "btnNext = widgets.Button(description='Next')\n",
    "def next_data(b):\n",
    "    global cur_index\n",
    "    cur_index += 1\n",
    "    if(cur_index >= len(dataset)): cur_index = len(dataset)-1\n",
    "    else: set_data(cur_index)\n",
    "btnNext.on_click(next_data)\n",
    "\n",
    "def set_data(index):\n",
    "    global cur_index \n",
    "    cur_index = index\n",
    "    txtIndex.value = str(index)\n",
    "    txtLabel.value = get_label(index)\n",
    "    x = trunc_index[index]['x']\n",
    "    y = trunc_index[index]['y']\n",
    "    trunc_sl.max = len(dataset[index])-1\n",
    "    trunc_sl.value = [x,y]\n",
    "    draw_data_cutter()"
   ]
  },
  {
   "cell_type": "code",
   "execution_count": null,
   "metadata": {},
   "outputs": [],
   "source": [
    "#PLOT\n",
    "fig = plt.figure()\n",
    "ax = fig.add_subplot(111)\n",
    "plt.ion()\n",
    "fig.show()\n",
    "fig.canvas.draw()\n",
    "\n",
    "def draw_data_cutter():\n",
    "    x = trunc_index[cur_index]['x']\n",
    "    y = trunc_index[cur_index]['y']\n",
    "    ax.clear()\n",
    "    \n",
    "    data2 = np.array(dataset[cur_index])\n",
    "    #maybe smooth for display\n",
    "    #data2 = smooth(data2, 10, 2)\n",
    "    \n",
    "    #transform (size, 6) -> (6, size, 1) (for draw each xyzxyz separately)\n",
    "    data = []\n",
    "    for i in range(DIM): data.append([])\n",
    "    for d in data2:\n",
    "        for i in range(DIM):\n",
    "            data[i].append(d[i])\n",
    "        \n",
    "    for i in range(DIM):\n",
    "        if i<3 and DIM>3:\n",
    "            label = 'accel %s' % ('xyz'[i])\n",
    "        else:\n",
    "            label = 'gyro %s' % ('xyz'[i-3])\n",
    "        ax.plot(range(len(data[i])),data[i], label=label)\n",
    "        \n",
    "    ax.axvspan(x, y, color='green', alpha=0.1)\n",
    "    ax.legend(loc='lower left')\n",
    "    fig.canvas.draw()\n",
    "\n",
    "display(widgets.HBox((btnOk,btnAuto,btnAutoAll,btnReset,btnSave)))\n",
    "display(widgets.HBox((btnPrev,btnNext,txtIndex,txtLabel)))\n",
    "display(trunc_sl)\n",
    "set_data(cur_index)"
   ]
  },
  {
   "cell_type": "code",
   "execution_count": null,
   "metadata": {
    "collapsed": true
   },
   "outputs": [],
   "source": [
    "#Save the graph as image\n",
    "if False: plt.savefig('data-index%s.png' % cur_index,pad_inches=0,bbox_inches='tight')"
   ]
  }
 ],
 "metadata": {
  "kernelspec": {
   "display_name": "Python 3",
   "language": "python",
   "name": "python3"
  },
  "language_info": {
   "codemirror_mode": {
    "name": "ipython",
    "version": 3
   },
   "file_extension": ".py",
   "mimetype": "text/x-python",
   "name": "python",
   "nbconvert_exporter": "python",
   "pygments_lexer": "ipython3",
   "version": "3.5.3"
  },
  "widgets": {
   "state": {
    "0139c231f91a48e9b857257c361897d4": {
     "views": [
      {
       "cell_index": 4
      }
     ]
    },
    "12c0d85e6f1f4142b5e09fb756a056f5": {
     "views": [
      {
       "cell_index": 3
      }
     ]
    },
    "286dba7101484f7dbf265a631a003104": {
     "views": [
      {
       "cell_index": 4
      }
     ]
    },
    "2b46764a0d05443d88d0ec2372edcf62": {
     "views": [
      {
       "cell_index": 4
      }
     ]
    },
    "2d17e6e1f2b9416ca16d1c8666c73a7c": {
     "views": [
      {
       "cell_index": 4
      }
     ]
    },
    "5322533294014371b67a761075f351e2": {
     "views": [
      {
       "cell_index": 4
      }
     ]
    },
    "6b85978fa6414cad86f3acefc272af6f": {
     "views": [
      {
       "cell_index": 4
      }
     ]
    },
    "75c77a00974147d8a5c527c77c50bb2a": {
     "views": [
      {
       "cell_index": 4
      }
     ]
    },
    "7c7053a18bc643ac9f5aec8c5b6cd247": {
     "views": [
      {
       "cell_index": 3
      }
     ]
    },
    "a019284ba33f498cb3c2b23ca682a7e0": {
     "views": [
      {
       "cell_index": 4
      }
     ]
    },
    "b2d67e102b9b445db69191e22bb412ed": {
     "views": [
      {
       "cell_index": 4
      }
     ]
    },
    "bf38014d8641424b9ea0e0a8a2fee256": {
     "views": [
      {
       "cell_index": 4
      }
     ]
    },
    "c3ba28f4352d40578ada1c1cacba9613": {
     "views": [
      {
       "cell_index": 3
      }
     ]
    },
    "d70b41db9b8e47089f17420c112cea6f": {
     "views": [
      {
       "cell_index": 3
      }
     ]
    },
    "eb30a3c8ae754c03a5d3faf367173bb8": {
     "views": [
      {
       "cell_index": 4
      }
     ]
    },
    "f04aca2fa723445da7988b1dcdbd0a82": {
     "views": [
      {
       "cell_index": 4
      }
     ]
    },
    "f727296253c94e799892c45ba1c171be": {
     "views": [
      {
       "cell_index": 4
      }
     ]
    },
    "f9b204152cd04c13a735d7ed6e72753f": {
     "views": [
      {
       "cell_index": 4
      }
     ]
    },
    "fdf3a232aed44cc7ba60c12bb216d89f": {
     "views": [
      {
       "cell_index": 4
      }
     ]
    }
   },
   "version": "1.2.0"
  }
 },
 "nbformat": 4,
 "nbformat_minor": 1
}
